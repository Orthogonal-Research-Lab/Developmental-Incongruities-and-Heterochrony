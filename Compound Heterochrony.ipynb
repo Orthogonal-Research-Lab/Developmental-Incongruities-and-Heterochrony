{
 "cells": [
  {
   "cell_type": "markdown",
   "metadata": {},
   "source": [
    "<h1 style=\"text-align: center;\" markdown=\"1\">\n",
    "Modeling Heterochrony with Delays and Critical Periods</h1>\n",
    "<h3 style=\"text-align: center;\" markdown=\"1\">\n",
    "Bradly Alicea</h3>\n",
    "<h4 style=\"text-align: center;\" markdown=\"1\">\n",
    "Orthogonal Research and Education Lab, OpenWorm Foundation</h4>"
   ]
  },
  {
   "cell_type": "markdown",
   "metadata": {},
   "source": [
    "<div style=\"text-align:center\">\n",
    "    <H2>Growth Model of Heterochrony</H2>\n",
    "           </div>"
   ]
  },
  {
   "cell_type": "markdown",
   "metadata": {},
   "source": [
    "Review of the Alberch et.al heterochrony model (1979). Their simple growth law can be stated as  \n",
    "\n",
    "$$ \\frac{dy}{da} = \n",
    "\\begin{cases}\n",
    "0, & \\text{a < $\alpha$}\\\\\n",
    "ky,& \\text{$\alpha$ < a < $\beta$}\\\\\n",
    "0, & \\text{a > $\beta$}\\\\\n",
    "\\end{cases}\n",
    "\\tag{1}\n",
    "$$"
   ]
  },
  {
   "cell_type": "markdown",
   "metadata": {},
   "source": [
    "where *y* grows according to \n",
    "\n",
    "$$y(a) = y_0e^ka \\tag{2}$$ \n",
    "\n",
    "between onset age $\\alpha$ and offset age $\\beta$."
   ]
  },
  {
   "cell_type": "markdown",
   "metadata": {},
   "source": [
    "<p align=\"center\">\n",
    "  <img width=\"439\" height=\"248\" src=\"https://user-images.githubusercontent.com/38323286/47861810-a1eeab80-ddc1-11e8-9c78-35fead29171f.png\">\n",
    "</p>"
   ]
  },
  {
   "cell_type": "markdown",
   "metadata": {},
   "source": [
    "In this above example, growth is initiated at $\\alpha$ and terminates at $\\beta$, resulting in maintenance of an adult size.  \n",
    "\n",
    "The allometric growth law is a variant of the simple growth law, and involves two size/shape programs in the same orgaism.  \n",
    "\n",
    "For growth rates $k_1, k_2$, both $y_1$ and $y_2$ grow proportionally according to  \n",
    "\n",
    "$$y_1(t) = \\lambda y_2 (t)^b \\tag{3}$$  \n",
    "\n",
    "where $b = \\frac{k_1}{k_1}, \\lambda = \\frac{y_1(0)}{y_2(0)}$ and $g$ is transformation (or change in growth rate). In general, $\\frac{k_1}{k_0}$ &#x223C; $g_1$"
   ]
  },
  {
   "cell_type": "markdown",
   "metadata": {},
   "source": [
    "<p align=\"center\">\n",
    "  <img width=\"439\" height=\"248\" src=\"https://user-images.githubusercontent.com/38323286/47862383-ffcfc300-ddc2-11e8-84f5-bd79017ef414.png\">\n",
    "</p>"
   ]
  },
  {
   "cell_type": "markdown",
   "metadata": {},
   "source": [
    "In the example above, growth is initiated at $\\alpha$ and terminates at $\\beta$, resulting in finite growth.\n",
    "\n",
    "In the first example below, the red trajectory represents neoteny, or slower growth relative to baseline (where $k$ represents the slope, or rate of growth).  "
   ]
  },
  {
   "cell_type": "markdown",
   "metadata": {},
   "source": [
    "<p align=\"center\">\n",
    "  <img width=\"439\" height=\"248\" src=\"https://user-images.githubusercontent.com/38323286/47863774-10ce0380-ddc6-11e8-9081-50d52a60b7a6.png\">\n",
    "</p>\n"
   ]
  },
  {
   "cell_type": "markdown",
   "metadata": {},
   "source": [
    "<p align=\"center\">\n",
    "  <img width=\"439\" height=\"248\" src=\"https://user-images.githubusercontent.com/38323286/47864748-63a8ba80-ddc8-11e8-81a0-a2118d88c73d.png\">\n",
    "</p>\n"
   ]
  },
  {
   "cell_type": "markdown",
   "metadata": {},
   "source": [
    "In the example above, the red trajectory also represents neoteny, but is caused by both slower growth and delayed onset of growth relative to baseline (where $k$ represents the slope, or rate of growth). McKinney and McNamara (2013) have developed a typology of terms for shifts in growth trajectory and rate due to heterochrony."
   ]
  },
  {
   "cell_type": "markdown",
   "metadata": {},
   "source": [
    "<div style=\"text-align:center\">\n",
    "    <H2>Sequence Heterochrony</H2>\n",
    "           </div>"
   ]
  },
  {
   "cell_type": "markdown",
   "metadata": {},
   "source": [
    "An alternate version of heterochrony comes from Smith (2001) and is called \"sequence heterochrony\". In sequence heterochrony, the developmental trajectory is treated as a series of developmental events. These events shift in time relative to one another so that they can overlap or occur separate depending on the species. "
   ]
  },
  {
   "cell_type": "markdown",
   "metadata": {},
   "source": [
    "<p align=\"center\">\n",
    "  <img width=\"439\" height=\"248\" src=\"https://user-images.githubusercontent.com/38323286/48567866-c1a6c900-e8c3-11e8-9553-68db7b0bee84.png\">\n",
    "</p>"
   ]
  },
  {
   "cell_type": "markdown",
   "metadata": {},
   "source": [
    "<div style=\"text-align:center\">\n",
    "    <H2>Delay Model of Heterochrony</H2>\n",
    "           </div>"
   ]
  },
  {
   "cell_type": "markdown",
   "metadata": {},
   "source": [
    "Delay Differential Equations (DDEs) are characterized by time-delay systems in Richard (2003). In their general form, a time-delay system is  \n",
    "\n",
    "$$ \\frac{d}{dt} x(t) = f(t, x(t), x_t) \\tag {4}$$\n",
    "\n",
    "where $x_t = [x(\\tau): \\tau$ &#x2264; $t]$ represents the trajectory of a solution in the past.\n",
    "\n",
    "Both DDEs and time-delay systems can be solved using the method of steps (dde23 solver in Matlab). For a DDE with a single \n",
    "delay, the equation can be structured as  \n",
    "\n",
    "$$ \\frac{d}{dt} x(t) = f[x(t), x(t-\\tau)]   \\tag{5}$$"
   ]
  },
  {
   "cell_type": "markdown",
   "metadata": {},
   "source": [
    "We can also characterize time delays more specifically with respect to heterochrony and developmental growth trajectories.  In equation (1), $\\alpha$ and $\\beta$ both exhibit systematic time delays ($\\tau$): $\\alpha(\\tau)$, $\\beta(\\tau)$. \n",
    "\n",
    "Delay in the growth trajectory is characterized over the interval ($\\alpha$, $\\beta$), and is equivalent to &#x2206;$k$. The total length of the delayed process is $(\\beta + \\tau) - (\\alpha + \\tau)$. Using this formulation, the rate of a delay process is $k_0$, the delay rate is $\\frac{k_1}{k_0}$, and the length of a delay process is $\\beta_x - \\alpha_x$   "
   ]
  },
  {
   "cell_type": "markdown",
   "metadata": {},
   "source": [
    "<p align=\"center\">\n",
    "  <img width=\"439\" height=\"248\" src=\"https://user-images.githubusercontent.com/38323286/47955695-b1a8f400-df69-11e8-92c9-fb499800522d.png\">\n",
    "</p>"
   ]
  },
  {
   "cell_type": "markdown",
   "metadata": {},
   "source": [
    "<div style=\"text-align:center\">\n",
    "    <H2>Compound Heterochrony</H2>\n",
    "           </div>"
   ]
  },
  {
   "cell_type": "markdown",
   "metadata": {},
   "source": [
    "Now that we have discussed heterochrony, allometry, and growth, we can discuss *compound heterochrony*. Recall from equation (3) that allometry is a measure of relational growth between two organs or phenotypic modules. Compound heterochrony involves contributions to growth exhibited between two developmental programs expressed in the same organism (see Williamson (1992). Unlike in the allometry example, compound heterochrony is usually not relational. Rather, the component programs are either cooperative or competitive in their effects on the organism's developmental trajectory.\n",
    "\n",
    "We will consider two specific cases of compound heterochrony:\n",
    "\n",
    "A) two developmental programs expressed in either a sequential or overlapping fashion with respect to time.\n",
    "\n",
    "B) two developmental programs expressed in an overlapping fashion in a way that results in two sets of developmental parameters for growth ($y_1$, $y_2$).\n",
    "\n",
    "\n",
    "In the example of compound heterochrony in the figures below, the blue rectangle is the \"centipede\" program, while the red triangle is the \"butterfly\" program."
   ]
  },
  {
   "cell_type": "markdown",
   "metadata": {},
   "source": [
    "<p align=\"center\">\n",
    "  <img width=\"439\" height=\"248\" src=\"https://user-images.githubusercontent.com/38323286/47959798-03c63580-dfbb-11e8-8c07-e771111a7330.png\">\n",
    "</p>\n",
    "\n",
    "<p align=\"center\">\n",
    "  <img width=\"439\" height=\"248\" src=\"https://user-images.githubusercontent.com/38323286/47956093-57119700-df6d-11e8-8c04-c1664af52889.png\">\n",
    "</p>"
   ]
  },
  {
   "cell_type": "markdown",
   "metadata": {},
   "source": [
    "In the example of compound heterochrony in the figure above, Program 1 is blue and Program 2 is red. In compound heterochrony, $y_1$ and $y_2$ are nominally independent ($y_1$ &#x22A5; $y_2$)."
   ]
  },
  {
   "cell_type": "markdown",
   "metadata": {},
   "source": [
    "<p align=\"center\">\n",
    "  <img width=\"439\" height=\"248\" src=\"https://user-images.githubusercontent.com/38323286/47866864-ee3fe880-ddcd-11e8-91af-bb44cc1586a0.png\">\n",
    "</p>"
   ]
  },
  {
   "cell_type": "markdown",
   "metadata": {},
   "source": [
    "In the example of compound heterochrony in the figure above, two developmental programs are separated by a dedifferentiation and decellularization process (gray dashed line between $\\beta_1$ and $\\alpha_2$).\n",
    "\n",
    "In the example of compound heterochrony in the figure below, overlapping developmental programs $\\alpha,\\beta$ (black) and $\\Delta\\alpha,\\Delta\\beta$ (red). The overlap of developmental programs are defined by a delay in onset ($\\tau_\\alpha$) and a delay in termination ($\\tau_\\beta$)"
   ]
  },
  {
   "cell_type": "markdown",
   "metadata": {},
   "source": [
    "<p align=\"center\">\n",
    "  <img width=\"439\" height=\"248\" src=\"https://user-images.githubusercontent.com/38323286/47867970-0f560880-ddd1-11e8-9b0e-01a7ccc3d8b6.png\">\n",
    "</p>"
   ]
  },
  {
   "cell_type": "markdown",
   "metadata": {},
   "source": [
    "\n",
    "Generally speaking, the delay in program onset can be described as\n",
    "\n",
    "$$ \\alpha_2 - \\alpha_1 = \\tau_\\alpha \\tag{6}$$\n",
    "\n",
    "$$ \\tau_\\alpha = \n",
    "\\begin{cases}\n",
    "if \\alpha_2 > \\beta_1, & \\text{transformation}\\\\\n",
    "if \\alpha_2 < \\beta_1, & \\text{superimposition}\\\\ \n",
    "\\end{cases}\n",
    "\\tag{7}$$\n",
    "\n",
    "while the delay in program termination can be described as\n",
    "\n",
    "$$ \\beta_2 - \\beta_1 = \\tau_\\beta \\tag{8}$$\n",
    "\n",
    "$$ \\tau_\\beta =\n",
    "\\begin{cases}\n",
    "if k_2 > k_1, & \\text{programs more integrated}\\\\\n",
    "if k_2 < k_1, & \\text{programs less integrated}\\\\\n",
    "if k_2 = k_1, & \\text{programs complementary}\\\\\n",
    "\\end{cases}\n",
    "\\tag{9}\n",
    "$$"
   ]
  },
  {
   "cell_type": "markdown",
   "metadata": {},
   "source": [
    "Overall, delayed growth is a function of three parameters\n",
    "\n",
    "$$\n",
    "x(g) =\n",
    "f(\\tau, \\Delta{t}, \\theta)\n",
    "\\tag{10}\n",
    "$$\n",
    "\n",
    "where $\\tau$ is the delay in *t*, $\\Delta{k}$ is change in slope, and $\\theta$ is the phase angle between $f(g)$ and $f(g)'$, or between $f(g)$ and a baseline.\n",
    "\n",
    "\n",
    "This can be restated as an evolution equation\n",
    "\n",
    "$$\n",
    "u' = f(t,u),\n",
    "u'' = f(t,u,u)\n",
    "\\tag{11}\n",
    "$$\n",
    "\n",
    "where $u(t)$ is a growth function. This can be used in cases where an exact solution to the developmental trajectory is desired."
   ]
  },
  {
   "cell_type": "markdown",
   "metadata": {},
   "source": [
    "We may also observe switching from one developmental program to another. In the figure below, the two developmental growth trajectories are not only nonlinear, but also intersect at the termination point for one of the trajectories (black). This violates the cases for $\\tau_\\beta$ described in equations (6-9), but also provides a bifurcation point thyat enables a set of recombinant trajectories."
   ]
  },
  {
   "cell_type": "markdown",
   "metadata": {},
   "source": [
    "<p align=\"center\">\n",
    "  <img width=\"439\" height=\"248\" src=\"https://user-images.githubusercontent.com/38323286/48570742-ae4b2c00-e8ca-11e8-8d8e-a5522f75f543.png\">\n",
    "</p>"
   ]
  },
  {
   "cell_type": "markdown",
   "metadata": {},
   "source": [
    "<div style=\"text-align:center\">\n",
    "    <H2>Heterochrony and the Critical Period</H2>\n",
    "           </div>"
   ]
  },
  {
   "cell_type": "markdown",
   "metadata": {},
   "source": [
    "The simple growth model described in equations (1-3) is not explicitly constrained by a temporal window. Life history theory (Promislow and Harvey, 1990) posits that the juvenile stage is a finite period, subject to modification. We can characterize these limits to growth by applying Hensch's (2005) model of critical periods in development. Multiple critical periods for multiple modules and/or functions."
   ]
  },
  {
   "cell_type": "markdown",
   "metadata": {},
   "source": [
    "<p align=\"center\">\n",
    "  <img width=\"439\" height=\"248\" src=\"https://user-images.githubusercontent.com/38323286/47882249-e21c5100-ddf6-11e8-9516-78d0a29c1747.png\">\n",
    "</p>"
   ]
  },
  {
   "cell_type": "markdown",
   "metadata": {},
   "source": [
    "In general, we can describe a critical period window as\n",
    "    \n",
    "$$\n",
    "\\omega(g,t) = \n",
    "min(g,t) \\rightarrow max (g,t) \n",
    "\\tag{12}$$\n",
    "\n",
    "where $g$ is growth and $t$ is developmental time. We can also relate the simple growth to the critical period model in the following manner:\n",
    "\n",
    "a) critical period window is $\\Delta{t}$ wide ($t_1 - t_0$) and $p$ tall (where $p = p_0 \\rightarrow \\max_p$). In general, $g(x) \\propto p(x)$.\n",
    "\n",
    "b) growth decelerates ($\\beta$ gets moved back in time).\n",
    "\n",
    "c) new position of $\\beta$ with respect to time ($\\beta$') exceeds the length of the critical period window (at $t_1$).\n",
    "\n",
    "d) this interaction prematurely terminates growth. The difference in growth between $\\beta$ and $\\beta$' is ($\\Delta{g}$)."
   ]
  },
  {
   "cell_type": "markdown",
   "metadata": {},
   "source": [
    "<p align=\"center\">\n",
    "  <img width=\"439\" height=\"248\" src=\"https://user-images.githubusercontent.com/38323286/47880765-1a6d6080-ddf2-11e8-98ca-24ff7137b8d6.png\">\n",
    "</p>"
   ]
  },
  {
   "cell_type": "markdown",
   "metadata": {},
   "source": [
    "<p align=\"center\">\n",
    "  <img width=\"439\" height=\"248\" src=\"https://user-images.githubusercontent.com/38323286/47881554-805ae780-ddf4-11e8-8003-b2bd5b564265.png\">\n",
    "</p>"
   ]
  },
  {
   "cell_type": "markdown",
   "metadata": {},
   "source": [
    "<div style=\"text-align:center\">\n",
    "    <H2>Heterochrony and Dynamical Systems</H2>\n",
    "           </div>"
   ]
  },
  {
   "cell_type": "markdown",
   "metadata": {},
   "source": [
    "One way to characterize growth trajectories using a dynamical approach is to approximate the rate of separation between an initial condition and evolution of system $Z$ at time $t$. In this case, $\\alpha$ serves as the initial condition, while $\\beta$ and $\\Delta\\beta$ serve as alternate trajectories with termination at time $t$. This distance is measured between two trajectories, which can either be linear or nonlinear."
   ]
  },
  {
   "cell_type": "markdown",
   "metadata": {},
   "source": [
    "<p align=\"center\">\n",
    "  <img width=\"439\" height=\"248\" src=\"https://user-images.githubusercontent.com/38323286/48465298-00dff780-e7a8-11e8-9275-240c2459a93f.png\">\n",
    "</p>"
   ]
  },
  {
   "cell_type": "markdown",
   "metadata": {},
   "source": [
    "In the above example, $\\Delta\\beta$ is determined by a delay. In the example below, $\\Delta\\beta$ is determined by both a partial delay (delay in the earlier developmental program but not the later one) and the end of the critical period window. In both cases, the rate of divergence between both growth trajectories is measured by $|\\delta Z(t)|$."
   ]
  },
  {
   "cell_type": "markdown",
   "metadata": {},
   "source": [
    "<p align=\"center\">\n",
    "  <img width=\"439\" height=\"248\" src=\"https://user-images.githubusercontent.com/38323286/48465299-00dff780-e7a8-11e8-9852-4072e7398d17.png\">\n",
    "</p>"
   ]
  },
  {
   "cell_type": "markdown",
   "metadata": {},
   "source": [
    "In cases of compound trajectory where there are two intersecting developmental programs, the initial condition is a bifurcation point $\\alpha_2$ at some point in the growth trajectory rather than the initial condition $\\alpha_1$. In this case, we observe at least two developmental programs producing alternate growth trajectories. These growth trajectories are also linked to a common history, or the same developmental program over interval ($\\alpha_1, \\alpha_2$)."
   ]
  },
  {
   "cell_type": "markdown",
   "metadata": {},
   "source": [
    "<p align=\"center\">\n",
    "  <img width=\"439\" height=\"248\" src=\"https://user-images.githubusercontent.com/38323286/48465300-01788e00-e7a8-11e8-9a9d-c968439aec16.png\">\n",
    "</p>"
   ]
  },
  {
   "cell_type": "markdown",
   "metadata": {},
   "source": [
    "<div style=\"text-align:center\">\n",
    "    <H2>References</H2>\n",
    "           </div>"
   ]
  },
  {
   "cell_type": "markdown",
   "metadata": {},
   "source": [
    "Alberch, P., Gould, S.J., Oster, G.F., and Wake, D. (1979). [Size and shape in ontogeny and phylogeny](https://www.researchgate.net/publication/272152220_Size_and_shape_in_ontogeny_and_phylogeny). _Paleobiology_, 5(3), 296.\n",
    "\n",
    "Hensch, T.K. (2005). [Critical period plasticity in local cortical circuits](https://www.nature.com/articles/nrn1787). _Nature Reviews Neuroscience_, 6(11), 877–888.\n",
    "\n",
    "McKinney, M.L. and McNamara, J.K. (2013). [Heterochrony and the evolution of ontogeny](https://books.google.com/books/about/Heterochrony.html?id=AWrlBwAAQBAJ&source=kp_book_description). Springer.\n",
    "\n",
    "Promislow, D.E.L. and Harvey, P.H. (1990). [Living fast and dying young: A comparative analysis of life-history variation among mammals](https://zslpublications.onlinelibrary.wiley.com/doi/abs/10.1111/j.1469-7998.1990.tb04316.x). _Journal of Zoology_, 220, 417-437.\n",
    "\n",
    "Richard, J-P. (2003). [Time-delay systems: an overview of some recent advances and open problems](https://www.sciencedirect.com/journal/automatica/vol/39/issue/10). _Automatica_, 39, 1667-1694.\n",
    "\n",
    "Smith, K.K. (2001). [Heterochrony revisited: the evolution of developmental sequences](https://onlinelibrary.wiley.com/doi/abs/10.1111/j.1095-8312.2001.tb01355.x). _Biological Journal of the Linnean Society_, 73, 169-186. doi:l0.1006/bij1.2001.0535.\n",
    "\n",
    "Williamson, D. (1992). [Larvae and Evolution: towards a new Zoology](https://books.google.com/books/about/Larvae_and_Evolution.html?id=MV8WAQAAIAAJ). Springer."
   ]
  }
 ],
 "metadata": {
  "kernelspec": {
   "display_name": "Python 3",
   "language": "python",
   "name": "python3"
  },
  "language_info": {
   "codemirror_mode": {
    "name": "ipython",
    "version": 3
   },
   "file_extension": ".py",
   "mimetype": "text/x-python",
   "name": "python",
   "nbconvert_exporter": "python",
   "pygments_lexer": "ipython3",
   "version": "3.6.5"
  }
 },
 "nbformat": 4,
 "nbformat_minor": 2
}
